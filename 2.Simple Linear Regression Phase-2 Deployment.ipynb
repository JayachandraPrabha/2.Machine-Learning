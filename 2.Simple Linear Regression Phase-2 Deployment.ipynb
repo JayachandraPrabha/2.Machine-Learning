{
 "cells": [
  {
   "cell_type": "code",
   "execution_count": 16,
   "id": "5aa3c3fb",
   "metadata": {},
   "outputs": [],
   "source": [
    "# Step 10) Save the best model  \n",
    "# importing the pickle library as pk inorder to save the obtained model as binary format\n",
    "import pickle as pk\n",
    "file_name=\"final_model_obtained.sav\"\n",
    "# Created a pickle file with .sav extension & stored in a variable called file_name"
   ]
  },
  {
   "cell_type": "code",
   "execution_count": 20,
   "id": "9f37b066",
   "metadata": {},
   "outputs": [
    {
     "name": "stdout",
     "output_type": "stream",
     "text": [
      "enter the year: 0\n"
     ]
    },
    {
     "name": "stderr",
     "output_type": "stream",
     "text": [
      "C:\\Users\\jayac\\AppData\\Local\\anaconda3\\lib\\site-packages\\sklearn\\base.py:420: UserWarning: X does not have valid feature names, but LinearRegression was fitted with feature names\n",
      "  warnings.warn(\n"
     ]
    },
    {
     "data": {
      "text/plain": [
       "array([[26562.39929261]])"
      ]
     },
     "execution_count": 20,
     "metadata": {},
     "output_type": "execute_result"
    }
   ],
   "source": [
    "# Obtaining the input from the user\n",
    "user_data=int(input(\"enter the year: \"))\n",
    "# For loading the pickle file with the help of the load function by passing the open function with file nmae in read binary mode \n",
    "load_file=pk.load(open(file_name,\"rb\"))\n",
    "result=load_file.predict([[user_data]])\n",
    "# Storing the result in variable by providing (dot operator/access operator) to predict the user providing input\n",
    "result"
   ]
  },
  {
   "cell_type": "code",
   "execution_count": null,
   "id": "c0655d4c",
   "metadata": {},
   "outputs": [],
   "source": []
  }
 ],
 "metadata": {
  "kernelspec": {
   "display_name": "Python 3 (ipykernel)",
   "language": "python",
   "name": "python3"
  },
  "language_info": {
   "codemirror_mode": {
    "name": "ipython",
    "version": 3
   },
   "file_extension": ".py",
   "mimetype": "text/x-python",
   "name": "python",
   "nbconvert_exporter": "python",
   "pygments_lexer": "ipython3",
   "version": "3.10.9"
  }
 },
 "nbformat": 4,
 "nbformat_minor": 5
}
