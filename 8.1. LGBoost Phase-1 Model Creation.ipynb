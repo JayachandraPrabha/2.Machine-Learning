{
 "cells": [
  {
   "cell_type": "code",
   "execution_count": 1,
   "id": "f6f06f97",
   "metadata": {},
   "outputs": [
    {
     "data": {
      "text/html": [
       "<div>\n",
       "<style scoped>\n",
       "    .dataframe tbody tr th:only-of-type {\n",
       "        vertical-align: middle;\n",
       "    }\n",
       "\n",
       "    .dataframe tbody tr th {\n",
       "        vertical-align: top;\n",
       "    }\n",
       "\n",
       "    .dataframe thead th {\n",
       "        text-align: right;\n",
       "    }\n",
       "</style>\n",
       "<table border=\"1\" class=\"dataframe\">\n",
       "  <thead>\n",
       "    <tr style=\"text-align: right;\">\n",
       "      <th></th>\n",
       "      <th>age</th>\n",
       "      <th>sex</th>\n",
       "      <th>bmi</th>\n",
       "      <th>children</th>\n",
       "      <th>smoker</th>\n",
       "      <th>charges</th>\n",
       "    </tr>\n",
       "  </thead>\n",
       "  <tbody>\n",
       "    <tr>\n",
       "      <th>0</th>\n",
       "      <td>19</td>\n",
       "      <td>female</td>\n",
       "      <td>27.900</td>\n",
       "      <td>0</td>\n",
       "      <td>yes</td>\n",
       "      <td>16884.92400</td>\n",
       "    </tr>\n",
       "    <tr>\n",
       "      <th>1</th>\n",
       "      <td>18</td>\n",
       "      <td>male</td>\n",
       "      <td>33.770</td>\n",
       "      <td>1</td>\n",
       "      <td>no</td>\n",
       "      <td>1725.55230</td>\n",
       "    </tr>\n",
       "    <tr>\n",
       "      <th>2</th>\n",
       "      <td>28</td>\n",
       "      <td>male</td>\n",
       "      <td>33.000</td>\n",
       "      <td>3</td>\n",
       "      <td>no</td>\n",
       "      <td>4449.46200</td>\n",
       "    </tr>\n",
       "    <tr>\n",
       "      <th>3</th>\n",
       "      <td>33</td>\n",
       "      <td>male</td>\n",
       "      <td>22.705</td>\n",
       "      <td>0</td>\n",
       "      <td>no</td>\n",
       "      <td>21984.47061</td>\n",
       "    </tr>\n",
       "    <tr>\n",
       "      <th>4</th>\n",
       "      <td>32</td>\n",
       "      <td>male</td>\n",
       "      <td>28.880</td>\n",
       "      <td>0</td>\n",
       "      <td>no</td>\n",
       "      <td>3866.85520</td>\n",
       "    </tr>\n",
       "    <tr>\n",
       "      <th>...</th>\n",
       "      <td>...</td>\n",
       "      <td>...</td>\n",
       "      <td>...</td>\n",
       "      <td>...</td>\n",
       "      <td>...</td>\n",
       "      <td>...</td>\n",
       "    </tr>\n",
       "    <tr>\n",
       "      <th>1333</th>\n",
       "      <td>50</td>\n",
       "      <td>male</td>\n",
       "      <td>30.970</td>\n",
       "      <td>3</td>\n",
       "      <td>no</td>\n",
       "      <td>10600.54830</td>\n",
       "    </tr>\n",
       "    <tr>\n",
       "      <th>1334</th>\n",
       "      <td>18</td>\n",
       "      <td>female</td>\n",
       "      <td>31.920</td>\n",
       "      <td>0</td>\n",
       "      <td>no</td>\n",
       "      <td>2205.98080</td>\n",
       "    </tr>\n",
       "    <tr>\n",
       "      <th>1335</th>\n",
       "      <td>18</td>\n",
       "      <td>female</td>\n",
       "      <td>36.850</td>\n",
       "      <td>0</td>\n",
       "      <td>no</td>\n",
       "      <td>1629.83350</td>\n",
       "    </tr>\n",
       "    <tr>\n",
       "      <th>1336</th>\n",
       "      <td>21</td>\n",
       "      <td>female</td>\n",
       "      <td>25.800</td>\n",
       "      <td>0</td>\n",
       "      <td>no</td>\n",
       "      <td>2007.94500</td>\n",
       "    </tr>\n",
       "    <tr>\n",
       "      <th>1337</th>\n",
       "      <td>61</td>\n",
       "      <td>female</td>\n",
       "      <td>29.070</td>\n",
       "      <td>0</td>\n",
       "      <td>yes</td>\n",
       "      <td>29141.36030</td>\n",
       "    </tr>\n",
       "  </tbody>\n",
       "</table>\n",
       "<p>1338 rows × 6 columns</p>\n",
       "</div>"
      ],
      "text/plain": [
       "      age     sex     bmi  children smoker      charges\n",
       "0      19  female  27.900         0    yes  16884.92400\n",
       "1      18    male  33.770         1     no   1725.55230\n",
       "2      28    male  33.000         3     no   4449.46200\n",
       "3      33    male  22.705         0     no  21984.47061\n",
       "4      32    male  28.880         0     no   3866.85520\n",
       "...   ...     ...     ...       ...    ...          ...\n",
       "1333   50    male  30.970         3     no  10600.54830\n",
       "1334   18  female  31.920         0     no   2205.98080\n",
       "1335   18  female  36.850         0     no   1629.83350\n",
       "1336   21  female  25.800         0     no   2007.94500\n",
       "1337   61  female  29.070         0    yes  29141.36030\n",
       "\n",
       "[1338 rows x 6 columns]"
      ]
     },
     "execution_count": 1,
     "metadata": {},
     "output_type": "execute_result"
    }
   ],
   "source": [
    "import pandas as pd\n",
    "dataset=pd.read_csv(\"insurance_pre.csv\")\n",
    "dataset"
   ]
  },
  {
   "cell_type": "code",
   "execution_count": 2,
   "id": "8e062d33",
   "metadata": {},
   "outputs": [
    {
     "data": {
      "text/html": [
       "<div>\n",
       "<style scoped>\n",
       "    .dataframe tbody tr th:only-of-type {\n",
       "        vertical-align: middle;\n",
       "    }\n",
       "\n",
       "    .dataframe tbody tr th {\n",
       "        vertical-align: top;\n",
       "    }\n",
       "\n",
       "    .dataframe thead th {\n",
       "        text-align: right;\n",
       "    }\n",
       "</style>\n",
       "<table border=\"1\" class=\"dataframe\">\n",
       "  <thead>\n",
       "    <tr style=\"text-align: right;\">\n",
       "      <th></th>\n",
       "      <th>age</th>\n",
       "      <th>bmi</th>\n",
       "      <th>children</th>\n",
       "      <th>charges</th>\n",
       "      <th>sex_male</th>\n",
       "      <th>smoker_yes</th>\n",
       "    </tr>\n",
       "  </thead>\n",
       "  <tbody>\n",
       "    <tr>\n",
       "      <th>0</th>\n",
       "      <td>19</td>\n",
       "      <td>27.900</td>\n",
       "      <td>0</td>\n",
       "      <td>16884.92400</td>\n",
       "      <td>0</td>\n",
       "      <td>1</td>\n",
       "    </tr>\n",
       "    <tr>\n",
       "      <th>1</th>\n",
       "      <td>18</td>\n",
       "      <td>33.770</td>\n",
       "      <td>1</td>\n",
       "      <td>1725.55230</td>\n",
       "      <td>1</td>\n",
       "      <td>0</td>\n",
       "    </tr>\n",
       "    <tr>\n",
       "      <th>2</th>\n",
       "      <td>28</td>\n",
       "      <td>33.000</td>\n",
       "      <td>3</td>\n",
       "      <td>4449.46200</td>\n",
       "      <td>1</td>\n",
       "      <td>0</td>\n",
       "    </tr>\n",
       "    <tr>\n",
       "      <th>3</th>\n",
       "      <td>33</td>\n",
       "      <td>22.705</td>\n",
       "      <td>0</td>\n",
       "      <td>21984.47061</td>\n",
       "      <td>1</td>\n",
       "      <td>0</td>\n",
       "    </tr>\n",
       "    <tr>\n",
       "      <th>4</th>\n",
       "      <td>32</td>\n",
       "      <td>28.880</td>\n",
       "      <td>0</td>\n",
       "      <td>3866.85520</td>\n",
       "      <td>1</td>\n",
       "      <td>0</td>\n",
       "    </tr>\n",
       "    <tr>\n",
       "      <th>...</th>\n",
       "      <td>...</td>\n",
       "      <td>...</td>\n",
       "      <td>...</td>\n",
       "      <td>...</td>\n",
       "      <td>...</td>\n",
       "      <td>...</td>\n",
       "    </tr>\n",
       "    <tr>\n",
       "      <th>1333</th>\n",
       "      <td>50</td>\n",
       "      <td>30.970</td>\n",
       "      <td>3</td>\n",
       "      <td>10600.54830</td>\n",
       "      <td>1</td>\n",
       "      <td>0</td>\n",
       "    </tr>\n",
       "    <tr>\n",
       "      <th>1334</th>\n",
       "      <td>18</td>\n",
       "      <td>31.920</td>\n",
       "      <td>0</td>\n",
       "      <td>2205.98080</td>\n",
       "      <td>0</td>\n",
       "      <td>0</td>\n",
       "    </tr>\n",
       "    <tr>\n",
       "      <th>1335</th>\n",
       "      <td>18</td>\n",
       "      <td>36.850</td>\n",
       "      <td>0</td>\n",
       "      <td>1629.83350</td>\n",
       "      <td>0</td>\n",
       "      <td>0</td>\n",
       "    </tr>\n",
       "    <tr>\n",
       "      <th>1336</th>\n",
       "      <td>21</td>\n",
       "      <td>25.800</td>\n",
       "      <td>0</td>\n",
       "      <td>2007.94500</td>\n",
       "      <td>0</td>\n",
       "      <td>0</td>\n",
       "    </tr>\n",
       "    <tr>\n",
       "      <th>1337</th>\n",
       "      <td>61</td>\n",
       "      <td>29.070</td>\n",
       "      <td>0</td>\n",
       "      <td>29141.36030</td>\n",
       "      <td>0</td>\n",
       "      <td>1</td>\n",
       "    </tr>\n",
       "  </tbody>\n",
       "</table>\n",
       "<p>1338 rows × 6 columns</p>\n",
       "</div>"
      ],
      "text/plain": [
       "      age     bmi  children      charges  sex_male  smoker_yes\n",
       "0      19  27.900         0  16884.92400         0           1\n",
       "1      18  33.770         1   1725.55230         1           0\n",
       "2      28  33.000         3   4449.46200         1           0\n",
       "3      33  22.705         0  21984.47061         1           0\n",
       "4      32  28.880         0   3866.85520         1           0\n",
       "...   ...     ...       ...          ...       ...         ...\n",
       "1333   50  30.970         3  10600.54830         1           0\n",
       "1334   18  31.920         0   2205.98080         0           0\n",
       "1335   18  36.850         0   1629.83350         0           0\n",
       "1336   21  25.800         0   2007.94500         0           0\n",
       "1337   61  29.070         0  29141.36030         0           1\n",
       "\n",
       "[1338 rows x 6 columns]"
      ]
     },
     "execution_count": 2,
     "metadata": {},
     "output_type": "execute_result"
    }
   ],
   "source": [
    "dataset=pd.get_dummies(dataset,drop_first=True)\n",
    "dataset"
   ]
  },
  {
   "cell_type": "code",
   "execution_count": 3,
   "id": "81f74370",
   "metadata": {},
   "outputs": [
    {
     "data": {
      "text/plain": [
       "Index(['age', 'bmi', 'children', 'charges', 'sex_male', 'smoker_yes'], dtype='object')"
      ]
     },
     "execution_count": 3,
     "metadata": {},
     "output_type": "execute_result"
    }
   ],
   "source": [
    "dataset.columns"
   ]
  },
  {
   "cell_type": "code",
   "execution_count": 4,
   "id": "79bd4bfe",
   "metadata": {},
   "outputs": [],
   "source": [
    "independent=dataset[['age', 'bmi', 'children','sex_male', 'smoker_yes']]\n",
    "dependent=dataset[['charges']]"
   ]
  },
  {
   "cell_type": "code",
   "execution_count": 5,
   "id": "0e397d35",
   "metadata": {},
   "outputs": [],
   "source": [
    "from sklearn.model_selection import train_test_split\n",
    "x_train,x_test,y_train,y_test=train_test_split(independent,dependent,test_size=0.20,random_state=0)"
   ]
  },
  {
   "cell_type": "code",
   "execution_count": 6,
   "id": "5e371291",
   "metadata": {},
   "outputs": [],
   "source": [
    "from sklearn.preprocessing import StandardScaler\n",
    "sc=StandardScaler()\n",
    "x_train=sc.fit_transform(x_train)\n",
    "x_test=sc.transform(x_test)"
   ]
  },
  {
   "cell_type": "code",
   "execution_count": 7,
   "id": "182e8589",
   "metadata": {},
   "outputs": [],
   "source": [
    "# pip install lightgbm"
   ]
  },
  {
   "cell_type": "code",
   "execution_count": 8,
   "id": "0816419d",
   "metadata": {},
   "outputs": [
    {
     "name": "stderr",
     "output_type": "stream",
     "text": [
      "C:\\Users\\jayac\\AppData\\Local\\anaconda3\\lib\\site-packages\\sklearn\\utils\\validation.py:1143: DataConversionWarning: A column-vector y was passed when a 1d array was expected. Please change the shape of y to (n_samples, ), for example using ravel().\n",
      "  y = column_or_1d(y, warn=True)\n"
     ]
    },
    {
     "data": {
      "text/html": [
       "<style>#sk-container-id-1 {color: black;background-color: white;}#sk-container-id-1 pre{padding: 0;}#sk-container-id-1 div.sk-toggleable {background-color: white;}#sk-container-id-1 label.sk-toggleable__label {cursor: pointer;display: block;width: 100%;margin-bottom: 0;padding: 0.3em;box-sizing: border-box;text-align: center;}#sk-container-id-1 label.sk-toggleable__label-arrow:before {content: \"▸\";float: left;margin-right: 0.25em;color: #696969;}#sk-container-id-1 label.sk-toggleable__label-arrow:hover:before {color: black;}#sk-container-id-1 div.sk-estimator:hover label.sk-toggleable__label-arrow:before {color: black;}#sk-container-id-1 div.sk-toggleable__content {max-height: 0;max-width: 0;overflow: hidden;text-align: left;background-color: #f0f8ff;}#sk-container-id-1 div.sk-toggleable__content pre {margin: 0.2em;color: black;border-radius: 0.25em;background-color: #f0f8ff;}#sk-container-id-1 input.sk-toggleable__control:checked~div.sk-toggleable__content {max-height: 200px;max-width: 100%;overflow: auto;}#sk-container-id-1 input.sk-toggleable__control:checked~label.sk-toggleable__label-arrow:before {content: \"▾\";}#sk-container-id-1 div.sk-estimator input.sk-toggleable__control:checked~label.sk-toggleable__label {background-color: #d4ebff;}#sk-container-id-1 div.sk-label input.sk-toggleable__control:checked~label.sk-toggleable__label {background-color: #d4ebff;}#sk-container-id-1 input.sk-hidden--visually {border: 0;clip: rect(1px 1px 1px 1px);clip: rect(1px, 1px, 1px, 1px);height: 1px;margin: -1px;overflow: hidden;padding: 0;position: absolute;width: 1px;}#sk-container-id-1 div.sk-estimator {font-family: monospace;background-color: #f0f8ff;border: 1px dotted black;border-radius: 0.25em;box-sizing: border-box;margin-bottom: 0.5em;}#sk-container-id-1 div.sk-estimator:hover {background-color: #d4ebff;}#sk-container-id-1 div.sk-parallel-item::after {content: \"\";width: 100%;border-bottom: 1px solid gray;flex-grow: 1;}#sk-container-id-1 div.sk-label:hover label.sk-toggleable__label {background-color: #d4ebff;}#sk-container-id-1 div.sk-serial::before {content: \"\";position: absolute;border-left: 1px solid gray;box-sizing: border-box;top: 0;bottom: 0;left: 50%;z-index: 0;}#sk-container-id-1 div.sk-serial {display: flex;flex-direction: column;align-items: center;background-color: white;padding-right: 0.2em;padding-left: 0.2em;position: relative;}#sk-container-id-1 div.sk-item {position: relative;z-index: 1;}#sk-container-id-1 div.sk-parallel {display: flex;align-items: stretch;justify-content: center;background-color: white;position: relative;}#sk-container-id-1 div.sk-item::before, #sk-container-id-1 div.sk-parallel-item::before {content: \"\";position: absolute;border-left: 1px solid gray;box-sizing: border-box;top: 0;bottom: 0;left: 50%;z-index: -1;}#sk-container-id-1 div.sk-parallel-item {display: flex;flex-direction: column;z-index: 1;position: relative;background-color: white;}#sk-container-id-1 div.sk-parallel-item:first-child::after {align-self: flex-end;width: 50%;}#sk-container-id-1 div.sk-parallel-item:last-child::after {align-self: flex-start;width: 50%;}#sk-container-id-1 div.sk-parallel-item:only-child::after {width: 0;}#sk-container-id-1 div.sk-dashed-wrapped {border: 1px dashed gray;margin: 0 0.4em 0.5em 0.4em;box-sizing: border-box;padding-bottom: 0.4em;background-color: white;}#sk-container-id-1 div.sk-label label {font-family: monospace;font-weight: bold;display: inline-block;line-height: 1.2em;}#sk-container-id-1 div.sk-label-container {text-align: center;}#sk-container-id-1 div.sk-container {/* jupyter's `normalize.less` sets `[hidden] { display: none; }` but bootstrap.min.css set `[hidden] { display: none !important; }` so we also need the `!important` here to be able to override the default hidden behavior on the sphinx rendered scikit-learn.org. See: https://github.com/scikit-learn/scikit-learn/issues/21755 */display: inline-block !important;position: relative;}#sk-container-id-1 div.sk-text-repr-fallback {display: none;}</style><div id=\"sk-container-id-1\" class=\"sk-top-container\"><div class=\"sk-text-repr-fallback\"><pre>LGBMRegressor()</pre><b>In a Jupyter environment, please rerun this cell to show the HTML representation or trust the notebook. <br />On GitHub, the HTML representation is unable to render, please try loading this page with nbviewer.org.</b></div><div class=\"sk-container\" hidden><div class=\"sk-item\"><div class=\"sk-estimator sk-toggleable\"><input class=\"sk-toggleable__control sk-hidden--visually\" id=\"sk-estimator-id-1\" type=\"checkbox\" checked><label for=\"sk-estimator-id-1\" class=\"sk-toggleable__label sk-toggleable__label-arrow\">LGBMRegressor</label><div class=\"sk-toggleable__content\"><pre>LGBMRegressor()</pre></div></div></div></div></div>"
      ],
      "text/plain": [
       "LGBMRegressor()"
      ]
     },
     "execution_count": 8,
     "metadata": {},
     "output_type": "execute_result"
    }
   ],
   "source": [
    "import lightgbm as lgb\n",
    "from lightgbm import LGBMRegressor\n",
    "regressor=LGBMRegressor()\n",
    "regressor.fit(x_train,y_train)"
   ]
  },
  {
   "cell_type": "code",
   "execution_count": 9,
   "id": "16ed363c",
   "metadata": {},
   "outputs": [],
   "source": [
    "# import lightgbm as lgb\n",
    "# d_train=lgb.Dataset(x_train, label=y_train)\n",
    "# d_train"
   ]
  },
  {
   "cell_type": "code",
   "execution_count": 10,
   "id": "639bccb5",
   "metadata": {},
   "outputs": [],
   "source": [
    "# gb.plot_tree(gbm, figsize(20,6),tree_index=0,dpi-300)"
   ]
  },
  {
   "cell_type": "code",
   "execution_count": 11,
   "id": "e69c2990",
   "metadata": {},
   "outputs": [],
   "source": [
    "# lgbm_parameters={'learning_rate':100, \n",
    "#                  'boosting_type':'dart',#gbdt\n",
    "#                  'objective':'binary',\n",
    "#                  'metric':['r2_score','binary_logloss'],\n",
    "#                  'num_leaves':50,\n",
    "#                  'max_depth':50\n",
    "#                 }"
   ]
  },
  {
   "cell_type": "code",
   "execution_count": 12,
   "id": "b6c490db",
   "metadata": {},
   "outputs": [],
   "source": [
    "# clf=lgb.train(lgbm_parameters,d_train,500)"
   ]
  },
  {
   "cell_type": "code",
   "execution_count": 13,
   "id": "2ae0af0d",
   "metadata": {},
   "outputs": [],
   "source": [
    "# y_predict=clf.predict(x_test)\n",
    "# y_predict"
   ]
  },
  {
   "cell_type": "code",
   "execution_count": 14,
   "id": "2a08afbb",
   "metadata": {},
   "outputs": [
    {
     "data": {
      "text/plain": [
       "array([10625.70224663,  9529.45011367, 43570.55330856, 12116.95062332,\n",
       "        9565.09487557,  7163.856269  ,  1356.57095935, 10919.88970684,\n",
       "        8466.90419693,  3302.43132301,  7404.8083356 , 14226.52694558,\n",
       "        9144.11991822,  6623.07966815, 21995.20066062, 12056.38168344,\n",
       "       13777.50995495,  5381.30437052,  6604.94669251, 35354.17671108,\n",
       "       24790.48557155, 14247.50948824, 11021.28386893, 27035.80391814,\n",
       "        5476.21370935,  5478.55501851,  5220.33918977,  6230.06498245,\n",
       "        2638.0244467 , 11457.38236254,  7338.55675906, 48504.48441601,\n",
       "       17619.5334994 , 11984.99236828, 17346.66439236,  4077.63903404,\n",
       "       11725.99704105, 36978.61888252, 39092.20492298,  3171.6969347 ,\n",
       "        5617.76698612,  4878.5161989 , 19673.4445374 , 48364.57682998,\n",
       "       35939.31432376,  5941.58618701, 12212.32118903,  6953.06617532,\n",
       "        5260.07031115, 12013.43847224,  1635.17507118,  6817.28495286,\n",
       "       26501.47832265, 43975.11188144, 12260.55113376,  7608.59616449,\n",
       "        6025.78557705, 11302.70718381,  8728.18690983, 16936.66151839,\n",
       "        1735.70709064, 46151.115672  , 16611.24098989, 14972.87394088,\n",
       "       13916.33655848,  7090.65417555, 34373.52645009, 38810.56361655,\n",
       "        5765.94945239,  8534.27005737, 15631.74384915, 10831.6855    ,\n",
       "       18351.31314429, 16573.58597189, 14682.69919783, 16069.23346184,\n",
       "        9162.72193313, 12013.66277239, 18780.68457352, 47804.67703153,\n",
       "        9847.52027632, 48236.52272474,  2550.14208423, 11266.32884691,\n",
       "       40521.0625688 , 19427.15685243,  4588.59892623,  2729.7047895 ,\n",
       "       14693.85205117, 39197.22764218,  3840.45236081, 14219.21392981,\n",
       "        2511.40348959, 10634.63724777,  5436.74763178,  3356.00834292,\n",
       "       45322.24976548, 41331.69537953,  4986.86699355, 10508.15229064,\n",
       "        5063.06762297,  9215.18479781,  9286.08774369, 38933.07173674,\n",
       "       29165.92126703,  3464.42001427, 10021.79363594,  1630.54249149,\n",
       "       13575.39772286, 45843.77278291, 11464.4074033 ,  3412.12839329,\n",
       "        8752.74702996, 33318.74871184, 49904.58018536,  7171.20622305,\n",
       "        1979.05953907, 10752.85185283, 21569.09831304,  8233.40064313,\n",
       "       40990.31627041, 11899.60480477, 13129.85393989,  5068.3180449 ,\n",
       "       11545.43646196,  6291.09001903, 25264.60273926, 26070.80009695,\n",
       "       48892.46054212,  1160.96136959, 13330.94765282,  6517.07058683,\n",
       "        7941.3819463 ,  8727.50500407, 40649.302842  , 38344.43384155,\n",
       "       23929.66261121, 11856.45774987, 23874.40305327,  9013.43467062,\n",
       "        2410.16997941, 14545.63127693, 15496.19514342, 11874.26096458,\n",
       "        4707.83145229, 13446.18762297, 18737.58296738,  9935.62702022,\n",
       "        2002.16796036, 12202.76791681,  7282.42353743, 40689.49893377,\n",
       "        9545.9357329 ,  4164.70273569,  4855.17284024,  8379.85073923,\n",
       "        1876.19470242,  3386.11606293, 12056.38168344,  9886.1760632 ,\n",
       "        6650.53185198, 13006.50725179, 13902.07558247,  6631.6256413 ,\n",
       "        4259.99015297,  6858.00810717, 15337.52112283,  7542.61910767,\n",
       "        6096.68321491,  2043.25134209,  9683.99817139,  9540.86580325,\n",
       "       11738.26883202,  2741.1081028 ,  7353.0829293 ,  7235.09145792,\n",
       "        6165.13631208,  7207.92579036, 27975.85509941,  1764.34572465,\n",
       "       16782.15632487,  5765.17851562,  9965.21395291,  6064.73264866,\n",
       "        6903.28053888, 27554.35888177,  2373.11216922,  3721.06930879,\n",
       "       12502.99937431, 12143.96038841, 42459.8843784 ,  8240.69929498,\n",
       "        4859.61617584, 23693.87895797,  2752.76875466,  5430.58746572,\n",
       "        9166.84197149,  5857.43540691,  4814.83284416,  4590.03134296,\n",
       "       14379.98577535, 46921.62554397, 15334.89318887, 19289.99320665,\n",
       "        6526.62506793, 43170.93440004,  4274.25983277,  9986.88513432,\n",
       "        8113.6209871 ,  2274.20804147,  9499.26344406, 13475.57650512,\n",
       "        7844.68807931,  3595.66739981,  6469.85546785,  5701.46556555,\n",
       "        6747.44837403,  6455.2211555 , 13773.48628633,  7845.53523213,\n",
       "        8883.29342655,  7575.58271263,  9702.78742171,  4187.97671782,\n",
       "       13263.28305554, 14245.1103071 , 21766.59891293, 13284.98744244,\n",
       "        5771.89230316,  1555.00185221,  3319.36286918,  7776.52668667,\n",
       "       15457.36407337,  7131.74296768,  6014.49207248,  6155.56660493,\n",
       "       14736.31316583, 34905.29411657,  4909.27920864, 12140.85486782,\n",
       "        7750.54806287, 37544.60324856,  7883.36052418,  7742.67463764,\n",
       "        9530.89947092, 11960.72070586,  5470.84029469,  8309.79069972,\n",
       "        4739.64401385,  6796.97185937, 20666.48267631, 46043.52342362,\n",
       "        4683.92561086,  4588.59892623,  1861.16391251,  2495.27628213,\n",
       "        9318.15814181,  1536.90869326,  4817.58606156,  9438.70141988,\n",
       "        7804.66352613, 25291.33078775, 45447.16610309, 16452.41510149,\n",
       "        7079.72272413, 10600.19647559, 43629.82045584,  8410.67264539])"
      ]
     },
     "execution_count": 14,
     "metadata": {},
     "output_type": "execute_result"
    }
   ],
   "source": [
    "y_predict=regressor.predict(x_test)\n",
    "y_predict"
   ]
  },
  {
   "cell_type": "code",
   "execution_count": 15,
   "id": "6e335829",
   "metadata": {},
   "outputs": [
    {
     "data": {
      "text/plain": [
       "0.8825932367755079"
      ]
     },
     "execution_count": 15,
     "metadata": {},
     "output_type": "execute_result"
    }
   ],
   "source": [
    "from sklearn.metrics import r2_score\n",
    "r_score=r2_score(y_test,y_predict)\n",
    "r_score"
   ]
  },
  {
   "cell_type": "code",
   "execution_count": 16,
   "id": "78642929",
   "metadata": {},
   "outputs": [],
   "source": [
    "# accuracy = regressor.score(x_test, y_test)\n",
    "# print(accuracy)"
   ]
  },
  {
   "cell_type": "code",
   "execution_count": 17,
   "id": "8e35cf4f",
   "metadata": {},
   "outputs": [],
   "source": [
    "import pickle as pk\n",
    "file_name=\"final_LGBoost_model.sav\""
   ]
  },
  {
   "cell_type": "code",
   "execution_count": 19,
   "id": "18858bc6",
   "metadata": {},
   "outputs": [],
   "source": [
    "pk.dump(regressor,open(file_name,\"wb\"))"
   ]
  },
  {
   "cell_type": "code",
   "execution_count": 20,
   "id": "06127d7a",
   "metadata": {},
   "outputs": [
    {
     "name": "stdout",
     "output_type": "stream",
     "text": [
      "Enter the Age: 23\n",
      "Enter the BMI value: 25\n",
      "Enter the Count of the Children: 1\n",
      "Enter the Sex(0-Female/1-Male): 0\n",
      "Enter the whether you are a smoker(0-No/1-Yes): 0\n"
     ]
    },
    {
     "data": {
      "text/plain": [
       "array([16113.58685759])"
      ]
     },
     "execution_count": 20,
     "metadata": {},
     "output_type": "execute_result"
    }
   ],
   "source": [
    "# age\tbmi\tchildren\tcharges\tsex_male\tsmoker_yes\n",
    "age=int(input(\"Enter the Age: \"))\n",
    "bmi=int(input(\"Enter the BMI value: \"))\n",
    "children=int(input(\"Enter the Count of the Children: \"))\n",
    "Sex=int(input(\"Enter the Sex(0-Female/1-Male): \"))\n",
    "smoker=int(input(\"Enter the whether you are a smoker(0-No/1-Yes): \"))\n",
    "\n",
    "load_file=pk.load(open(file_name,\"rb\"))\n",
    "result=load_file.predict([[age,bmi,children,Sex,smoker]])\n",
    "result"
   ]
  },
  {
   "cell_type": "code",
   "execution_count": null,
   "id": "30ee804a",
   "metadata": {},
   "outputs": [],
   "source": []
  },
  {
   "cell_type": "code",
   "execution_count": null,
   "id": "161de6e6",
   "metadata": {},
   "outputs": [],
   "source": []
  }
 ],
 "metadata": {
  "kernelspec": {
   "display_name": "Python 3 (ipykernel)",
   "language": "python",
   "name": "python3"
  },
  "language_info": {
   "codemirror_mode": {
    "name": "ipython",
    "version": 3
   },
   "file_extension": ".py",
   "mimetype": "text/x-python",
   "name": "python",
   "nbconvert_exporter": "python",
   "pygments_lexer": "ipython3",
   "version": "3.10.9"
  }
 },
 "nbformat": 4,
 "nbformat_minor": 5
}
