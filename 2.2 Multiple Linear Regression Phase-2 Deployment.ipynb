{
 "cells": [
  {
   "cell_type": "code",
   "execution_count": 1,
   "id": "68d5bde1",
   "metadata": {},
   "outputs": [],
   "source": [
    "import pickle as pk\n",
    "file_name=\"final_mul_model.sav\""
   ]
  },
  {
   "cell_type": "code",
   "execution_count": null,
   "id": "20f1ad54",
   "metadata": {},
   "outputs": [
    {
     "name": "stdout",
     "output_type": "stream",
     "text": [
      "Enter R&D spend: 234.34\n"
     ]
    }
   ],
   "source": [
    "rd=float(input(\"Enter R&D spend: \"))\n",
    "Administration=float(input(\"Enter Administration: \"))\n",
    "Marketing_Spend=float(input(\"Enter Marketing Spend: \"))\n",
    "State_Florida=float(input(\"Enter State_Florida: \"))\n",
    "State_New_York=float(input(\"Enter State_New York: \"))\n",
    "\n",
    "load_file=pk.load(open(file_name,\"rb\"))\n",
    "result=load_file.predict([[rd, Administration,Marketing_Spend,State_Florida,State_New_York]])\n",
    "result"
   ]
  },
  {
   "cell_type": "code",
   "execution_count": null,
   "id": "7c664cc3",
   "metadata": {},
   "outputs": [],
   "source": []
  }
 ],
 "metadata": {
  "kernelspec": {
   "display_name": "Python 3 (ipykernel)",
   "language": "python",
   "name": "python3"
  },
  "language_info": {
   "codemirror_mode": {
    "name": "ipython",
    "version": 3
   },
   "file_extension": ".py",
   "mimetype": "text/x-python",
   "name": "python",
   "nbconvert_exporter": "python",
   "pygments_lexer": "ipython3",
   "version": "3.10.9"
  }
 },
 "nbformat": 4,
 "nbformat_minor": 5
}
