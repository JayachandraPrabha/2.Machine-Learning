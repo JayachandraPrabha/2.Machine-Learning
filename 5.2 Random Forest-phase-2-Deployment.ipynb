{
 "cells": [
  {
   "cell_type": "code",
   "execution_count": 1,
   "id": "a0d041e1",
   "metadata": {},
   "outputs": [],
   "source": [
    "import pickle as pk\n",
    "file_name= \"final_model_rforest.sav\""
   ]
  },
  {
   "cell_type": "code",
   "execution_count": 2,
   "id": "d7ad2025",
   "metadata": {},
   "outputs": [
    {
     "data": {
      "text/plain": [
       "array([189523.0146])"
      ]
     },
     "execution_count": 2,
     "metadata": {},
     "output_type": "execute_result"
    }
   ],
   "source": [
    "load_file=pk.load(open(file_name,\"rb\"))\n",
    "result=load_file.predict([[123,456,789,12,2]])\n",
    "result"
   ]
  },
  {
   "cell_type": "code",
   "execution_count": null,
   "id": "0420bb8d",
   "metadata": {},
   "outputs": [],
   "source": []
  }
 ],
 "metadata": {
  "kernelspec": {
   "display_name": "Python 3 (ipykernel)",
   "language": "python",
   "name": "python3"
  },
  "language_info": {
   "codemirror_mode": {
    "name": "ipython",
    "version": 3
   },
   "file_extension": ".py",
   "mimetype": "text/x-python",
   "name": "python",
   "nbconvert_exporter": "python",
   "pygments_lexer": "ipython3",
   "version": "3.10.9"
  }
 },
 "nbformat": 4,
 "nbformat_minor": 5
}
