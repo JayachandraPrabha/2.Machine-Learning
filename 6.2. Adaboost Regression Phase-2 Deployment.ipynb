{
 "cells": [
  {
   "cell_type": "code",
   "execution_count": 1,
   "id": "fb664c9e",
   "metadata": {},
   "outputs": [],
   "source": [
    "import pickle as pk\n",
    "file_name=\"final_adaBoost_model.sav\""
   ]
  },
  {
   "cell_type": "code",
   "execution_count": 2,
   "id": "84c752a9",
   "metadata": {},
   "outputs": [
    {
     "name": "stdout",
     "output_type": "stream",
     "text": [
      "Enter the R&D Spend: 32\n",
      "Enter the Administration: 3235\n",
      "Enter the Marketing Spend: 78687\n",
      "Enter the State_Florida(Yes-1/No-0): 0\n",
      "Enter the State_New York(Yes-1/No-0): 1\n"
     ]
    },
    {
     "data": {
      "text/plain": [
       "array([187581.91])"
      ]
     },
     "execution_count": 2,
     "metadata": {},
     "output_type": "execute_result"
    }
   ],
   "source": [
    "# R&D Spend\tAdministration\tMarketing Spend\tProfit\tState_Florida\tState_New York\n",
    "rd=int(input(\"Enter the R&D Spend: \"))\n",
    "admin=int(input(\"Enter the Administration: \"))\n",
    "marketing=int(input(\"Enter the Marketing Spend: \"))\n",
    "florida=int(input(\"Enter the State_Florida(Yes-1/No-0): \"))\n",
    "newyork=int(input(\"Enter the State_New York(Yes-1/No-0): \"))\n",
    "\n",
    "load_file=pk.load(open(file_name,\"rb\"))\n",
    "result=load_file.predict([[rd,admin,marketing,florida,newyork]])\n",
    "result"
   ]
  },
  {
   "cell_type": "code",
   "execution_count": null,
   "id": "09825309",
   "metadata": {},
   "outputs": [],
   "source": []
  }
 ],
 "metadata": {
  "kernelspec": {
   "display_name": "Python 3 (ipykernel)",
   "language": "python",
   "name": "python3"
  },
  "language_info": {
   "codemirror_mode": {
    "name": "ipython",
    "version": 3
   },
   "file_extension": ".py",
   "mimetype": "text/x-python",
   "name": "python",
   "nbconvert_exporter": "python",
   "pygments_lexer": "ipython3",
   "version": "3.10.9"
  }
 },
 "nbformat": 4,
 "nbformat_minor": 5
}
