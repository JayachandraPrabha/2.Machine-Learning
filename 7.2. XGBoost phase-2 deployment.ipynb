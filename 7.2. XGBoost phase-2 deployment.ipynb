{
 "cells": [
  {
   "cell_type": "code",
   "execution_count": 3,
   "id": "b353be05",
   "metadata": {},
   "outputs": [],
   "source": [
    "import pickle as pk\n",
    "file_name=\"final_XGBoost_model.sav\""
   ]
  },
  {
   "cell_type": "code",
   "execution_count": 4,
   "id": "df70838c",
   "metadata": {},
   "outputs": [
    {
     "name": "stdout",
     "output_type": "stream",
     "text": [
      "Enter the Age: 32\n",
      "Enter the BMI value: 23\n",
      "Enter the Count of the Children: 1\n",
      "Enter the Sex(0-Female/1-Male): 2\n",
      "Enter the whether you are a smoker(0-No/1-Yes): 1\n"
     ]
    },
    {
     "data": {
      "text/plain": [
       "array([48400.273], dtype=float32)"
      ]
     },
     "execution_count": 4,
     "metadata": {},
     "output_type": "execute_result"
    }
   ],
   "source": [
    "# age\tbmi\tchildren\tcharges\tsex_male\tsmoker_yes\n",
    "age=int(input(\"Enter the Age: \"))\n",
    "bmi=int(input(\"Enter the BMI value: \"))\n",
    "children=int(input(\"Enter the Count of the Children: \"))\n",
    "Sex=int(input(\"Enter the Sex(0-Female/1-Male): \"))\n",
    "smoker=int(input(\"Enter the whether you are a smoker(0-No/1-Yes): \"))\n",
    "\n",
    "load_file=pk.load(open(file_name,\"rb\"))\n",
    "result=load_file.predict([[age,bmi,children,Sex,smoker]])\n",
    "result"
   ]
  },
  {
   "cell_type": "code",
   "execution_count": null,
   "id": "857f4afd",
   "metadata": {},
   "outputs": [],
   "source": []
  }
 ],
 "metadata": {
  "kernelspec": {
   "display_name": "Python 3 (ipykernel)",
   "language": "python",
   "name": "python3"
  },
  "language_info": {
   "codemirror_mode": {
    "name": "ipython",
    "version": 3
   },
   "file_extension": ".py",
   "mimetype": "text/x-python",
   "name": "python",
   "nbconvert_exporter": "python",
   "pygments_lexer": "ipython3",
   "version": "3.10.9"
  }
 },
 "nbformat": 4,
 "nbformat_minor": 5
}
